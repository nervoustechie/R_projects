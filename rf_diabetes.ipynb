{
 "cells": [
  {
   "cell_type": "markdown",
   "id": "c1c01412-39f4-4860-9cef-baf76836f71f",
   "metadata": {},
   "source": [
    "Made by José Miguel Santos Roldán. 13-07-2024"
   ]
  },
  {
   "cell_type": "markdown",
   "id": "c10551e4-8c49-4266-b1d6-5b12f95d291b",
   "metadata": {},
   "source": [
    "# Diabetes Prediction using Random Forest\n",
    "\n",
    "In this project, I am going to analyze a dataset containing data of potential diabetes patients.\r\n",
    "\r\n",
    "The dataset in question shathe following variables:\r\n",
    "1. Pregnancies: Number of times pregnant.\r\n",
    "2. Glucose: Plasma glucose concentration a 2 hours in an oral glucose tolerance test.\r\n",
    "3. BloodPressure: Diastolic blood pressure (mm Hg).\r\n",
    "4. SkinThickness: Triceps skin fold thickness (mm).\r\n",
    "5. Insulin: 2-Hour serum insulin (mu U/ml).\r\n",
    "6. BMI: Body mass index (weight in kg/(height in m)^2).\r\n",
    "7. DiabetesPedigreeFunction: A function which scores the likelihood of diabetes based\r\n",
    "on family history.\r",
    "e of the patient.iabetes. . \r\n",
    "\r\n",
    "Finally, the dataset contains a Variable called \"Outcome\", which indicates if the patient has diabetes (1) or not (0).\r\n",
    "\r\n",
    "Based on this data, we are going to use the K-fold cross-validation classification algorithm to pr Outcome va able  (0 orn  1) value based ovalues of th .other variablesm This will allow us find which of the included health conditions is more influential on a diadiagnostic.orest."
   ]
  },
  {
   "cell_type": "code",
   "execution_count": 28,
   "id": "39c1c9f7-f2d0-4f4c-a5fa-c3bb06fb68a2",
   "metadata": {},
   "outputs": [
    {
     "data": {
      "text/html": [
       "<style>\n",
       ".list-inline {list-style: none; margin:0; padding: 0}\n",
       ".list-inline>li {display: inline-block}\n",
       ".list-inline>li:not(:last-child)::after {content: \"\\00b7\"; padding: 0 .5ex}\n",
       "</style>\n",
       "<ol class=list-inline><li>'Pregnancies,Glucose,BloodPressure,SkinThickness,Insulin,BMI,DiabetesPedigreeFunction,Age,Outcome'</li><li>'6,148,72,35,0,33.6,0.627,50,1'</li><li>'1,85,66,29,0,26.6,0.351,31,0'</li></ol>\n"
      ],
      "text/latex": [
       "\\begin{enumerate*}\n",
       "\\item 'Pregnancies,Glucose,BloodPressure,SkinThickness,Insulin,BMI,DiabetesPedigreeFunction,Age,Outcome'\n",
       "\\item '6,148,72,35,0,33.6,0.627,50,1'\n",
       "\\item '1,85,66,29,0,26.6,0.351,31,0'\n",
       "\\end{enumerate*}\n"
      ],
      "text/markdown": [
       "1. 'Pregnancies,Glucose,BloodPressure,SkinThickness,Insulin,BMI,DiabetesPedigreeFunction,Age,Outcome'\n",
       "2. '6,148,72,35,0,33.6,0.627,50,1'\n",
       "3. '1,85,66,29,0,26.6,0.351,31,0'\n",
       "\n",
       "\n"
      ],
      "text/plain": [
       "[1] \"Pregnancies,Glucose,BloodPressure,SkinThickness,Insulin,BMI,DiabetesPedigreeFunction,Age,Outcome\"\n",
       "[2] \"6,148,72,35,0,33.6,0.627,50,1\"                                                                   \n",
       "[3] \"1,85,66,29,0,26.6,0.351,31,0\"                                                                    "
      ]
     },
     "metadata": {},
     "output_type": "display_data"
    }
   ],
   "source": [
    "# Data preprocessing\n",
    "# Clearing the workspace\n",
    "rm(list=ls())\n",
    "\n",
    "# Reading the first 3 lines of the dataset to understand its structure\n",
    "readLines(\"diabetes.csv\", 3)"
   ]
  },
  {
   "cell_type": "code",
   "execution_count": 29,
   "id": "4910508a-6ed2-4a8f-8084-b104ec936666",
   "metadata": {},
   "outputs": [
    {
     "data": {
      "text/html": [
       "<table class=\"dataframe\">\n",
       "<caption>A data.frame: 768 × 9</caption>\n",
       "<thead>\n",
       "\t<tr><th scope=col>Pregnancies</th><th scope=col>Glucose</th><th scope=col>BloodPressure</th><th scope=col>SkinThickness</th><th scope=col>Insulin</th><th scope=col>BMI</th><th scope=col>DiabetesPedigreeFunction</th><th scope=col>Age</th><th scope=col>Outcome</th></tr>\n",
       "\t<tr><th scope=col>&lt;int&gt;</th><th scope=col>&lt;int&gt;</th><th scope=col>&lt;int&gt;</th><th scope=col>&lt;int&gt;</th><th scope=col>&lt;int&gt;</th><th scope=col>&lt;dbl&gt;</th><th scope=col>&lt;dbl&gt;</th><th scope=col>&lt;int&gt;</th><th scope=col>&lt;int&gt;</th></tr>\n",
       "</thead>\n",
       "<tbody>\n",
       "\t<tr><td> 6</td><td>148</td><td>72</td><td>35</td><td>  0</td><td>33.6</td><td>0.627</td><td>50</td><td>1</td></tr>\n",
       "\t<tr><td> 1</td><td> 85</td><td>66</td><td>29</td><td>  0</td><td>26.6</td><td>0.351</td><td>31</td><td>0</td></tr>\n",
       "\t<tr><td> 8</td><td>183</td><td>64</td><td> 0</td><td>  0</td><td>23.3</td><td>0.672</td><td>32</td><td>1</td></tr>\n",
       "\t<tr><td> 1</td><td> 89</td><td>66</td><td>23</td><td> 94</td><td>28.1</td><td>0.167</td><td>21</td><td>0</td></tr>\n",
       "\t<tr><td> 0</td><td>137</td><td>40</td><td>35</td><td>168</td><td>43.1</td><td>2.288</td><td>33</td><td>1</td></tr>\n",
       "\t<tr><td> 5</td><td>116</td><td>74</td><td> 0</td><td>  0</td><td>25.6</td><td>0.201</td><td>30</td><td>0</td></tr>\n",
       "\t<tr><td> 3</td><td> 78</td><td>50</td><td>32</td><td> 88</td><td>31.0</td><td>0.248</td><td>26</td><td>1</td></tr>\n",
       "\t<tr><td>10</td><td>115</td><td> 0</td><td> 0</td><td>  0</td><td>35.3</td><td>0.134</td><td>29</td><td>0</td></tr>\n",
       "\t<tr><td> 2</td><td>197</td><td>70</td><td>45</td><td>543</td><td>30.5</td><td>0.158</td><td>53</td><td>1</td></tr>\n",
       "\t<tr><td> 8</td><td>125</td><td>96</td><td> 0</td><td>  0</td><td> 0.0</td><td>0.232</td><td>54</td><td>1</td></tr>\n",
       "\t<tr><td> 4</td><td>110</td><td>92</td><td> 0</td><td>  0</td><td>37.6</td><td>0.191</td><td>30</td><td>0</td></tr>\n",
       "\t<tr><td>10</td><td>168</td><td>74</td><td> 0</td><td>  0</td><td>38.0</td><td>0.537</td><td>34</td><td>1</td></tr>\n",
       "\t<tr><td>10</td><td>139</td><td>80</td><td> 0</td><td>  0</td><td>27.1</td><td>1.441</td><td>57</td><td>0</td></tr>\n",
       "\t<tr><td> 1</td><td>189</td><td>60</td><td>23</td><td>846</td><td>30.1</td><td>0.398</td><td>59</td><td>1</td></tr>\n",
       "\t<tr><td> 5</td><td>166</td><td>72</td><td>19</td><td>175</td><td>25.8</td><td>0.587</td><td>51</td><td>1</td></tr>\n",
       "\t<tr><td> 7</td><td>100</td><td> 0</td><td> 0</td><td>  0</td><td>30.0</td><td>0.484</td><td>32</td><td>1</td></tr>\n",
       "\t<tr><td> 0</td><td>118</td><td>84</td><td>47</td><td>230</td><td>45.8</td><td>0.551</td><td>31</td><td>1</td></tr>\n",
       "\t<tr><td> 7</td><td>107</td><td>74</td><td> 0</td><td>  0</td><td>29.6</td><td>0.254</td><td>31</td><td>1</td></tr>\n",
       "\t<tr><td> 1</td><td>103</td><td>30</td><td>38</td><td> 83</td><td>43.3</td><td>0.183</td><td>33</td><td>0</td></tr>\n",
       "\t<tr><td> 1</td><td>115</td><td>70</td><td>30</td><td> 96</td><td>34.6</td><td>0.529</td><td>32</td><td>1</td></tr>\n",
       "\t<tr><td> 3</td><td>126</td><td>88</td><td>41</td><td>235</td><td>39.3</td><td>0.704</td><td>27</td><td>0</td></tr>\n",
       "\t<tr><td> 8</td><td> 99</td><td>84</td><td> 0</td><td>  0</td><td>35.4</td><td>0.388</td><td>50</td><td>0</td></tr>\n",
       "\t<tr><td> 7</td><td>196</td><td>90</td><td> 0</td><td>  0</td><td>39.8</td><td>0.451</td><td>41</td><td>1</td></tr>\n",
       "\t<tr><td> 9</td><td>119</td><td>80</td><td>35</td><td>  0</td><td>29.0</td><td>0.263</td><td>29</td><td>1</td></tr>\n",
       "\t<tr><td>11</td><td>143</td><td>94</td><td>33</td><td>146</td><td>36.6</td><td>0.254</td><td>51</td><td>1</td></tr>\n",
       "\t<tr><td>10</td><td>125</td><td>70</td><td>26</td><td>115</td><td>31.1</td><td>0.205</td><td>41</td><td>1</td></tr>\n",
       "\t<tr><td> 7</td><td>147</td><td>76</td><td> 0</td><td>  0</td><td>39.4</td><td>0.257</td><td>43</td><td>1</td></tr>\n",
       "\t<tr><td> 1</td><td> 97</td><td>66</td><td>15</td><td>140</td><td>23.2</td><td>0.487</td><td>22</td><td>0</td></tr>\n",
       "\t<tr><td>13</td><td>145</td><td>82</td><td>19</td><td>110</td><td>22.2</td><td>0.245</td><td>57</td><td>0</td></tr>\n",
       "\t<tr><td> 5</td><td>117</td><td>92</td><td> 0</td><td>  0</td><td>34.1</td><td>0.337</td><td>38</td><td>0</td></tr>\n",
       "\t<tr><td>⋮</td><td>⋮</td><td>⋮</td><td>⋮</td><td>⋮</td><td>⋮</td><td>⋮</td><td>⋮</td><td>⋮</td></tr>\n",
       "\t<tr><td> 2</td><td> 99</td><td>60</td><td>17</td><td>160</td><td>36.6</td><td>0.453</td><td>21</td><td>0</td></tr>\n",
       "\t<tr><td> 1</td><td>102</td><td>74</td><td> 0</td><td>  0</td><td>39.5</td><td>0.293</td><td>42</td><td>1</td></tr>\n",
       "\t<tr><td>11</td><td>120</td><td>80</td><td>37</td><td>150</td><td>42.3</td><td>0.785</td><td>48</td><td>1</td></tr>\n",
       "\t<tr><td> 3</td><td>102</td><td>44</td><td>20</td><td> 94</td><td>30.8</td><td>0.400</td><td>26</td><td>0</td></tr>\n",
       "\t<tr><td> 1</td><td>109</td><td>58</td><td>18</td><td>116</td><td>28.5</td><td>0.219</td><td>22</td><td>0</td></tr>\n",
       "\t<tr><td> 9</td><td>140</td><td>94</td><td> 0</td><td>  0</td><td>32.7</td><td>0.734</td><td>45</td><td>1</td></tr>\n",
       "\t<tr><td>13</td><td>153</td><td>88</td><td>37</td><td>140</td><td>40.6</td><td>1.174</td><td>39</td><td>0</td></tr>\n",
       "\t<tr><td>12</td><td>100</td><td>84</td><td>33</td><td>105</td><td>30.0</td><td>0.488</td><td>46</td><td>0</td></tr>\n",
       "\t<tr><td> 1</td><td>147</td><td>94</td><td>41</td><td>  0</td><td>49.3</td><td>0.358</td><td>27</td><td>1</td></tr>\n",
       "\t<tr><td> 1</td><td> 81</td><td>74</td><td>41</td><td> 57</td><td>46.3</td><td>1.096</td><td>32</td><td>0</td></tr>\n",
       "\t<tr><td> 3</td><td>187</td><td>70</td><td>22</td><td>200</td><td>36.4</td><td>0.408</td><td>36</td><td>1</td></tr>\n",
       "\t<tr><td> 6</td><td>162</td><td>62</td><td> 0</td><td>  0</td><td>24.3</td><td>0.178</td><td>50</td><td>1</td></tr>\n",
       "\t<tr><td> 4</td><td>136</td><td>70</td><td> 0</td><td>  0</td><td>31.2</td><td>1.182</td><td>22</td><td>1</td></tr>\n",
       "\t<tr><td> 1</td><td>121</td><td>78</td><td>39</td><td> 74</td><td>39.0</td><td>0.261</td><td>28</td><td>0</td></tr>\n",
       "\t<tr><td> 3</td><td>108</td><td>62</td><td>24</td><td>  0</td><td>26.0</td><td>0.223</td><td>25</td><td>0</td></tr>\n",
       "\t<tr><td> 0</td><td>181</td><td>88</td><td>44</td><td>510</td><td>43.3</td><td>0.222</td><td>26</td><td>1</td></tr>\n",
       "\t<tr><td> 8</td><td>154</td><td>78</td><td>32</td><td>  0</td><td>32.4</td><td>0.443</td><td>45</td><td>1</td></tr>\n",
       "\t<tr><td> 1</td><td>128</td><td>88</td><td>39</td><td>110</td><td>36.5</td><td>1.057</td><td>37</td><td>1</td></tr>\n",
       "\t<tr><td> 7</td><td>137</td><td>90</td><td>41</td><td>  0</td><td>32.0</td><td>0.391</td><td>39</td><td>0</td></tr>\n",
       "\t<tr><td> 0</td><td>123</td><td>72</td><td> 0</td><td>  0</td><td>36.3</td><td>0.258</td><td>52</td><td>1</td></tr>\n",
       "\t<tr><td> 1</td><td>106</td><td>76</td><td> 0</td><td>  0</td><td>37.5</td><td>0.197</td><td>26</td><td>0</td></tr>\n",
       "\t<tr><td> 6</td><td>190</td><td>92</td><td> 0</td><td>  0</td><td>35.5</td><td>0.278</td><td>66</td><td>1</td></tr>\n",
       "\t<tr><td> 2</td><td> 88</td><td>58</td><td>26</td><td> 16</td><td>28.4</td><td>0.766</td><td>22</td><td>0</td></tr>\n",
       "\t<tr><td> 9</td><td>170</td><td>74</td><td>31</td><td>  0</td><td>44.0</td><td>0.403</td><td>43</td><td>1</td></tr>\n",
       "\t<tr><td> 9</td><td> 89</td><td>62</td><td> 0</td><td>  0</td><td>22.5</td><td>0.142</td><td>33</td><td>0</td></tr>\n",
       "\t<tr><td>10</td><td>101</td><td>76</td><td>48</td><td>180</td><td>32.9</td><td>0.171</td><td>63</td><td>0</td></tr>\n",
       "\t<tr><td> 2</td><td>122</td><td>70</td><td>27</td><td>  0</td><td>36.8</td><td>0.340</td><td>27</td><td>0</td></tr>\n",
       "\t<tr><td> 5</td><td>121</td><td>72</td><td>23</td><td>112</td><td>26.2</td><td>0.245</td><td>30</td><td>0</td></tr>\n",
       "\t<tr><td> 1</td><td>126</td><td>60</td><td> 0</td><td>  0</td><td>30.1</td><td>0.349</td><td>47</td><td>1</td></tr>\n",
       "\t<tr><td> 1</td><td> 93</td><td>70</td><td>31</td><td>  0</td><td>30.4</td><td>0.315</td><td>23</td><td>0</td></tr>\n",
       "</tbody>\n",
       "</table>\n"
      ],
      "text/latex": [
       "A data.frame: 768 × 9\n",
       "\\begin{tabular}{lllllllll}\n",
       " Pregnancies & Glucose & BloodPressure & SkinThickness & Insulin & BMI & DiabetesPedigreeFunction & Age & Outcome\\\\\n",
       " <int> & <int> & <int> & <int> & <int> & <dbl> & <dbl> & <int> & <int>\\\\\n",
       "\\hline\n",
       "\t  6 & 148 & 72 & 35 &   0 & 33.6 & 0.627 & 50 & 1\\\\\n",
       "\t  1 &  85 & 66 & 29 &   0 & 26.6 & 0.351 & 31 & 0\\\\\n",
       "\t  8 & 183 & 64 &  0 &   0 & 23.3 & 0.672 & 32 & 1\\\\\n",
       "\t  1 &  89 & 66 & 23 &  94 & 28.1 & 0.167 & 21 & 0\\\\\n",
       "\t  0 & 137 & 40 & 35 & 168 & 43.1 & 2.288 & 33 & 1\\\\\n",
       "\t  5 & 116 & 74 &  0 &   0 & 25.6 & 0.201 & 30 & 0\\\\\n",
       "\t  3 &  78 & 50 & 32 &  88 & 31.0 & 0.248 & 26 & 1\\\\\n",
       "\t 10 & 115 &  0 &  0 &   0 & 35.3 & 0.134 & 29 & 0\\\\\n",
       "\t  2 & 197 & 70 & 45 & 543 & 30.5 & 0.158 & 53 & 1\\\\\n",
       "\t  8 & 125 & 96 &  0 &   0 &  0.0 & 0.232 & 54 & 1\\\\\n",
       "\t  4 & 110 & 92 &  0 &   0 & 37.6 & 0.191 & 30 & 0\\\\\n",
       "\t 10 & 168 & 74 &  0 &   0 & 38.0 & 0.537 & 34 & 1\\\\\n",
       "\t 10 & 139 & 80 &  0 &   0 & 27.1 & 1.441 & 57 & 0\\\\\n",
       "\t  1 & 189 & 60 & 23 & 846 & 30.1 & 0.398 & 59 & 1\\\\\n",
       "\t  5 & 166 & 72 & 19 & 175 & 25.8 & 0.587 & 51 & 1\\\\\n",
       "\t  7 & 100 &  0 &  0 &   0 & 30.0 & 0.484 & 32 & 1\\\\\n",
       "\t  0 & 118 & 84 & 47 & 230 & 45.8 & 0.551 & 31 & 1\\\\\n",
       "\t  7 & 107 & 74 &  0 &   0 & 29.6 & 0.254 & 31 & 1\\\\\n",
       "\t  1 & 103 & 30 & 38 &  83 & 43.3 & 0.183 & 33 & 0\\\\\n",
       "\t  1 & 115 & 70 & 30 &  96 & 34.6 & 0.529 & 32 & 1\\\\\n",
       "\t  3 & 126 & 88 & 41 & 235 & 39.3 & 0.704 & 27 & 0\\\\\n",
       "\t  8 &  99 & 84 &  0 &   0 & 35.4 & 0.388 & 50 & 0\\\\\n",
       "\t  7 & 196 & 90 &  0 &   0 & 39.8 & 0.451 & 41 & 1\\\\\n",
       "\t  9 & 119 & 80 & 35 &   0 & 29.0 & 0.263 & 29 & 1\\\\\n",
       "\t 11 & 143 & 94 & 33 & 146 & 36.6 & 0.254 & 51 & 1\\\\\n",
       "\t 10 & 125 & 70 & 26 & 115 & 31.1 & 0.205 & 41 & 1\\\\\n",
       "\t  7 & 147 & 76 &  0 &   0 & 39.4 & 0.257 & 43 & 1\\\\\n",
       "\t  1 &  97 & 66 & 15 & 140 & 23.2 & 0.487 & 22 & 0\\\\\n",
       "\t 13 & 145 & 82 & 19 & 110 & 22.2 & 0.245 & 57 & 0\\\\\n",
       "\t  5 & 117 & 92 &  0 &   0 & 34.1 & 0.337 & 38 & 0\\\\\n",
       "\t ⋮ & ⋮ & ⋮ & ⋮ & ⋮ & ⋮ & ⋮ & ⋮ & ⋮\\\\\n",
       "\t  2 &  99 & 60 & 17 & 160 & 36.6 & 0.453 & 21 & 0\\\\\n",
       "\t  1 & 102 & 74 &  0 &   0 & 39.5 & 0.293 & 42 & 1\\\\\n",
       "\t 11 & 120 & 80 & 37 & 150 & 42.3 & 0.785 & 48 & 1\\\\\n",
       "\t  3 & 102 & 44 & 20 &  94 & 30.8 & 0.400 & 26 & 0\\\\\n",
       "\t  1 & 109 & 58 & 18 & 116 & 28.5 & 0.219 & 22 & 0\\\\\n",
       "\t  9 & 140 & 94 &  0 &   0 & 32.7 & 0.734 & 45 & 1\\\\\n",
       "\t 13 & 153 & 88 & 37 & 140 & 40.6 & 1.174 & 39 & 0\\\\\n",
       "\t 12 & 100 & 84 & 33 & 105 & 30.0 & 0.488 & 46 & 0\\\\\n",
       "\t  1 & 147 & 94 & 41 &   0 & 49.3 & 0.358 & 27 & 1\\\\\n",
       "\t  1 &  81 & 74 & 41 &  57 & 46.3 & 1.096 & 32 & 0\\\\\n",
       "\t  3 & 187 & 70 & 22 & 200 & 36.4 & 0.408 & 36 & 1\\\\\n",
       "\t  6 & 162 & 62 &  0 &   0 & 24.3 & 0.178 & 50 & 1\\\\\n",
       "\t  4 & 136 & 70 &  0 &   0 & 31.2 & 1.182 & 22 & 1\\\\\n",
       "\t  1 & 121 & 78 & 39 &  74 & 39.0 & 0.261 & 28 & 0\\\\\n",
       "\t  3 & 108 & 62 & 24 &   0 & 26.0 & 0.223 & 25 & 0\\\\\n",
       "\t  0 & 181 & 88 & 44 & 510 & 43.3 & 0.222 & 26 & 1\\\\\n",
       "\t  8 & 154 & 78 & 32 &   0 & 32.4 & 0.443 & 45 & 1\\\\\n",
       "\t  1 & 128 & 88 & 39 & 110 & 36.5 & 1.057 & 37 & 1\\\\\n",
       "\t  7 & 137 & 90 & 41 &   0 & 32.0 & 0.391 & 39 & 0\\\\\n",
       "\t  0 & 123 & 72 &  0 &   0 & 36.3 & 0.258 & 52 & 1\\\\\n",
       "\t  1 & 106 & 76 &  0 &   0 & 37.5 & 0.197 & 26 & 0\\\\\n",
       "\t  6 & 190 & 92 &  0 &   0 & 35.5 & 0.278 & 66 & 1\\\\\n",
       "\t  2 &  88 & 58 & 26 &  16 & 28.4 & 0.766 & 22 & 0\\\\\n",
       "\t  9 & 170 & 74 & 31 &   0 & 44.0 & 0.403 & 43 & 1\\\\\n",
       "\t  9 &  89 & 62 &  0 &   0 & 22.5 & 0.142 & 33 & 0\\\\\n",
       "\t 10 & 101 & 76 & 48 & 180 & 32.9 & 0.171 & 63 & 0\\\\\n",
       "\t  2 & 122 & 70 & 27 &   0 & 36.8 & 0.340 & 27 & 0\\\\\n",
       "\t  5 & 121 & 72 & 23 & 112 & 26.2 & 0.245 & 30 & 0\\\\\n",
       "\t  1 & 126 & 60 &  0 &   0 & 30.1 & 0.349 & 47 & 1\\\\\n",
       "\t  1 &  93 & 70 & 31 &   0 & 30.4 & 0.315 & 23 & 0\\\\\n",
       "\\end{tabular}\n"
      ],
      "text/markdown": [
       "\n",
       "A data.frame: 768 × 9\n",
       "\n",
       "| Pregnancies &lt;int&gt; | Glucose &lt;int&gt; | BloodPressure &lt;int&gt; | SkinThickness &lt;int&gt; | Insulin &lt;int&gt; | BMI &lt;dbl&gt; | DiabetesPedigreeFunction &lt;dbl&gt; | Age &lt;int&gt; | Outcome &lt;int&gt; |\n",
       "|---|---|---|---|---|---|---|---|---|\n",
       "|  6 | 148 | 72 | 35 |   0 | 33.6 | 0.627 | 50 | 1 |\n",
       "|  1 |  85 | 66 | 29 |   0 | 26.6 | 0.351 | 31 | 0 |\n",
       "|  8 | 183 | 64 |  0 |   0 | 23.3 | 0.672 | 32 | 1 |\n",
       "|  1 |  89 | 66 | 23 |  94 | 28.1 | 0.167 | 21 | 0 |\n",
       "|  0 | 137 | 40 | 35 | 168 | 43.1 | 2.288 | 33 | 1 |\n",
       "|  5 | 116 | 74 |  0 |   0 | 25.6 | 0.201 | 30 | 0 |\n",
       "|  3 |  78 | 50 | 32 |  88 | 31.0 | 0.248 | 26 | 1 |\n",
       "| 10 | 115 |  0 |  0 |   0 | 35.3 | 0.134 | 29 | 0 |\n",
       "|  2 | 197 | 70 | 45 | 543 | 30.5 | 0.158 | 53 | 1 |\n",
       "|  8 | 125 | 96 |  0 |   0 |  0.0 | 0.232 | 54 | 1 |\n",
       "|  4 | 110 | 92 |  0 |   0 | 37.6 | 0.191 | 30 | 0 |\n",
       "| 10 | 168 | 74 |  0 |   0 | 38.0 | 0.537 | 34 | 1 |\n",
       "| 10 | 139 | 80 |  0 |   0 | 27.1 | 1.441 | 57 | 0 |\n",
       "|  1 | 189 | 60 | 23 | 846 | 30.1 | 0.398 | 59 | 1 |\n",
       "|  5 | 166 | 72 | 19 | 175 | 25.8 | 0.587 | 51 | 1 |\n",
       "|  7 | 100 |  0 |  0 |   0 | 30.0 | 0.484 | 32 | 1 |\n",
       "|  0 | 118 | 84 | 47 | 230 | 45.8 | 0.551 | 31 | 1 |\n",
       "|  7 | 107 | 74 |  0 |   0 | 29.6 | 0.254 | 31 | 1 |\n",
       "|  1 | 103 | 30 | 38 |  83 | 43.3 | 0.183 | 33 | 0 |\n",
       "|  1 | 115 | 70 | 30 |  96 | 34.6 | 0.529 | 32 | 1 |\n",
       "|  3 | 126 | 88 | 41 | 235 | 39.3 | 0.704 | 27 | 0 |\n",
       "|  8 |  99 | 84 |  0 |   0 | 35.4 | 0.388 | 50 | 0 |\n",
       "|  7 | 196 | 90 |  0 |   0 | 39.8 | 0.451 | 41 | 1 |\n",
       "|  9 | 119 | 80 | 35 |   0 | 29.0 | 0.263 | 29 | 1 |\n",
       "| 11 | 143 | 94 | 33 | 146 | 36.6 | 0.254 | 51 | 1 |\n",
       "| 10 | 125 | 70 | 26 | 115 | 31.1 | 0.205 | 41 | 1 |\n",
       "|  7 | 147 | 76 |  0 |   0 | 39.4 | 0.257 | 43 | 1 |\n",
       "|  1 |  97 | 66 | 15 | 140 | 23.2 | 0.487 | 22 | 0 |\n",
       "| 13 | 145 | 82 | 19 | 110 | 22.2 | 0.245 | 57 | 0 |\n",
       "|  5 | 117 | 92 |  0 |   0 | 34.1 | 0.337 | 38 | 0 |\n",
       "| ⋮ | ⋮ | ⋮ | ⋮ | ⋮ | ⋮ | ⋮ | ⋮ | ⋮ |\n",
       "|  2 |  99 | 60 | 17 | 160 | 36.6 | 0.453 | 21 | 0 |\n",
       "|  1 | 102 | 74 |  0 |   0 | 39.5 | 0.293 | 42 | 1 |\n",
       "| 11 | 120 | 80 | 37 | 150 | 42.3 | 0.785 | 48 | 1 |\n",
       "|  3 | 102 | 44 | 20 |  94 | 30.8 | 0.400 | 26 | 0 |\n",
       "|  1 | 109 | 58 | 18 | 116 | 28.5 | 0.219 | 22 | 0 |\n",
       "|  9 | 140 | 94 |  0 |   0 | 32.7 | 0.734 | 45 | 1 |\n",
       "| 13 | 153 | 88 | 37 | 140 | 40.6 | 1.174 | 39 | 0 |\n",
       "| 12 | 100 | 84 | 33 | 105 | 30.0 | 0.488 | 46 | 0 |\n",
       "|  1 | 147 | 94 | 41 |   0 | 49.3 | 0.358 | 27 | 1 |\n",
       "|  1 |  81 | 74 | 41 |  57 | 46.3 | 1.096 | 32 | 0 |\n",
       "|  3 | 187 | 70 | 22 | 200 | 36.4 | 0.408 | 36 | 1 |\n",
       "|  6 | 162 | 62 |  0 |   0 | 24.3 | 0.178 | 50 | 1 |\n",
       "|  4 | 136 | 70 |  0 |   0 | 31.2 | 1.182 | 22 | 1 |\n",
       "|  1 | 121 | 78 | 39 |  74 | 39.0 | 0.261 | 28 | 0 |\n",
       "|  3 | 108 | 62 | 24 |   0 | 26.0 | 0.223 | 25 | 0 |\n",
       "|  0 | 181 | 88 | 44 | 510 | 43.3 | 0.222 | 26 | 1 |\n",
       "|  8 | 154 | 78 | 32 |   0 | 32.4 | 0.443 | 45 | 1 |\n",
       "|  1 | 128 | 88 | 39 | 110 | 36.5 | 1.057 | 37 | 1 |\n",
       "|  7 | 137 | 90 | 41 |   0 | 32.0 | 0.391 | 39 | 0 |\n",
       "|  0 | 123 | 72 |  0 |   0 | 36.3 | 0.258 | 52 | 1 |\n",
       "|  1 | 106 | 76 |  0 |   0 | 37.5 | 0.197 | 26 | 0 |\n",
       "|  6 | 190 | 92 |  0 |   0 | 35.5 | 0.278 | 66 | 1 |\n",
       "|  2 |  88 | 58 | 26 |  16 | 28.4 | 0.766 | 22 | 0 |\n",
       "|  9 | 170 | 74 | 31 |   0 | 44.0 | 0.403 | 43 | 1 |\n",
       "|  9 |  89 | 62 |  0 |   0 | 22.5 | 0.142 | 33 | 0 |\n",
       "| 10 | 101 | 76 | 48 | 180 | 32.9 | 0.171 | 63 | 0 |\n",
       "|  2 | 122 | 70 | 27 |   0 | 36.8 | 0.340 | 27 | 0 |\n",
       "|  5 | 121 | 72 | 23 | 112 | 26.2 | 0.245 | 30 | 0 |\n",
       "|  1 | 126 | 60 |  0 |   0 | 30.1 | 0.349 | 47 | 1 |\n",
       "|  1 |  93 | 70 | 31 |   0 | 30.4 | 0.315 | 23 | 0 |\n",
       "\n"
      ],
      "text/plain": [
       "    Pregnancies Glucose BloodPressure SkinThickness Insulin BMI \n",
       "1    6          148     72            35              0     33.6\n",
       "2    1           85     66            29              0     26.6\n",
       "3    8          183     64             0              0     23.3\n",
       "4    1           89     66            23             94     28.1\n",
       "5    0          137     40            35            168     43.1\n",
       "6    5          116     74             0              0     25.6\n",
       "7    3           78     50            32             88     31.0\n",
       "8   10          115      0             0              0     35.3\n",
       "9    2          197     70            45            543     30.5\n",
       "10   8          125     96             0              0      0.0\n",
       "11   4          110     92             0              0     37.6\n",
       "12  10          168     74             0              0     38.0\n",
       "13  10          139     80             0              0     27.1\n",
       "14   1          189     60            23            846     30.1\n",
       "15   5          166     72            19            175     25.8\n",
       "16   7          100      0             0              0     30.0\n",
       "17   0          118     84            47            230     45.8\n",
       "18   7          107     74             0              0     29.6\n",
       "19   1          103     30            38             83     43.3\n",
       "20   1          115     70            30             96     34.6\n",
       "21   3          126     88            41            235     39.3\n",
       "22   8           99     84             0              0     35.4\n",
       "23   7          196     90             0              0     39.8\n",
       "24   9          119     80            35              0     29.0\n",
       "25  11          143     94            33            146     36.6\n",
       "26  10          125     70            26            115     31.1\n",
       "27   7          147     76             0              0     39.4\n",
       "28   1           97     66            15            140     23.2\n",
       "29  13          145     82            19            110     22.2\n",
       "30   5          117     92             0              0     34.1\n",
       "⋮   ⋮           ⋮       ⋮             ⋮             ⋮       ⋮   \n",
       "739  2           99     60            17            160     36.6\n",
       "740  1          102     74             0              0     39.5\n",
       "741 11          120     80            37            150     42.3\n",
       "742  3          102     44            20             94     30.8\n",
       "743  1          109     58            18            116     28.5\n",
       "744  9          140     94             0              0     32.7\n",
       "745 13          153     88            37            140     40.6\n",
       "746 12          100     84            33            105     30.0\n",
       "747  1          147     94            41              0     49.3\n",
       "748  1           81     74            41             57     46.3\n",
       "749  3          187     70            22            200     36.4\n",
       "750  6          162     62             0              0     24.3\n",
       "751  4          136     70             0              0     31.2\n",
       "752  1          121     78            39             74     39.0\n",
       "753  3          108     62            24              0     26.0\n",
       "754  0          181     88            44            510     43.3\n",
       "755  8          154     78            32              0     32.4\n",
       "756  1          128     88            39            110     36.5\n",
       "757  7          137     90            41              0     32.0\n",
       "758  0          123     72             0              0     36.3\n",
       "759  1          106     76             0              0     37.5\n",
       "760  6          190     92             0              0     35.5\n",
       "761  2           88     58            26             16     28.4\n",
       "762  9          170     74            31              0     44.0\n",
       "763  9           89     62             0              0     22.5\n",
       "764 10          101     76            48            180     32.9\n",
       "765  2          122     70            27              0     36.8\n",
       "766  5          121     72            23            112     26.2\n",
       "767  1          126     60             0              0     30.1\n",
       "768  1           93     70            31              0     30.4\n",
       "    DiabetesPedigreeFunction Age Outcome\n",
       "1   0.627                    50  1      \n",
       "2   0.351                    31  0      \n",
       "3   0.672                    32  1      \n",
       "4   0.167                    21  0      \n",
       "5   2.288                    33  1      \n",
       "6   0.201                    30  0      \n",
       "7   0.248                    26  1      \n",
       "8   0.134                    29  0      \n",
       "9   0.158                    53  1      \n",
       "10  0.232                    54  1      \n",
       "11  0.191                    30  0      \n",
       "12  0.537                    34  1      \n",
       "13  1.441                    57  0      \n",
       "14  0.398                    59  1      \n",
       "15  0.587                    51  1      \n",
       "16  0.484                    32  1      \n",
       "17  0.551                    31  1      \n",
       "18  0.254                    31  1      \n",
       "19  0.183                    33  0      \n",
       "20  0.529                    32  1      \n",
       "21  0.704                    27  0      \n",
       "22  0.388                    50  0      \n",
       "23  0.451                    41  1      \n",
       "24  0.263                    29  1      \n",
       "25  0.254                    51  1      \n",
       "26  0.205                    41  1      \n",
       "27  0.257                    43  1      \n",
       "28  0.487                    22  0      \n",
       "29  0.245                    57  0      \n",
       "30  0.337                    38  0      \n",
       "⋮   ⋮                        ⋮   ⋮      \n",
       "739 0.453                    21  0      \n",
       "740 0.293                    42  1      \n",
       "741 0.785                    48  1      \n",
       "742 0.400                    26  0      \n",
       "743 0.219                    22  0      \n",
       "744 0.734                    45  1      \n",
       "745 1.174                    39  0      \n",
       "746 0.488                    46  0      \n",
       "747 0.358                    27  1      \n",
       "748 1.096                    32  0      \n",
       "749 0.408                    36  1      \n",
       "750 0.178                    50  1      \n",
       "751 1.182                    22  1      \n",
       "752 0.261                    28  0      \n",
       "753 0.223                    25  0      \n",
       "754 0.222                    26  1      \n",
       "755 0.443                    45  1      \n",
       "756 1.057                    37  1      \n",
       "757 0.391                    39  0      \n",
       "758 0.258                    52  1      \n",
       "759 0.197                    26  0      \n",
       "760 0.278                    66  1      \n",
       "761 0.766                    22  0      \n",
       "762 0.403                    43  1      \n",
       "763 0.142                    33  0      \n",
       "764 0.171                    63  0      \n",
       "765 0.340                    27  0      \n",
       "766 0.245                    30  0      \n",
       "767 0.349                    47  1      \n",
       "768 0.315                    23  0      "
      ]
     },
     "metadata": {},
     "output_type": "display_data"
    }
   ],
   "source": [
    "# Loading the diabetes dataset\n",
    "data_diabetes = read.csv(\"diabetes.csv\", sep = \",\", dec = \".\", header = TRUE)\n",
    "View(data_diabetes)"
   ]
  },
  {
   "cell_type": "code",
   "execution_count": 30,
   "id": "e0e5414e-f8c2-4c6f-89d7-00b38d61e33e",
   "metadata": {},
   "outputs": [
    {
     "data": {
      "text/html": [
       "<style>\n",
       ".list-inline {list-style: none; margin:0; padding: 0}\n",
       ".list-inline>li {display: inline-block}\n",
       ".list-inline>li:not(:last-child)::after {content: \"\\00b7\"; padding: 0 .5ex}\n",
       "</style>\n",
       "<ol class=list-inline><li>768</li><li>9</li></ol>\n"
      ],
      "text/latex": [
       "\\begin{enumerate*}\n",
       "\\item 768\n",
       "\\item 9\n",
       "\\end{enumerate*}\n"
      ],
      "text/markdown": [
       "1. 768\n",
       "2. 9\n",
       "\n",
       "\n"
      ],
      "text/plain": [
       "[1] 768   9"
      ]
     },
     "metadata": {},
     "output_type": "display_data"
    }
   ],
   "source": [
    "# Checking size of the dataset\n",
    "dim(data_diabetes)"
   ]
  },
  {
   "cell_type": "code",
   "execution_count": 31,
   "id": "128f9c8e-185f-4036-921b-688113bbbea8",
   "metadata": {},
   "outputs": [
    {
     "data": {
      "text/html": [
       "0"
      ],
      "text/latex": [
       "0"
      ],
      "text/markdown": [
       "0"
      ],
      "text/plain": [
       "[1] 0"
      ]
     },
     "metadata": {},
     "output_type": "display_data"
    }
   ],
   "source": [
    "# Checking for any missing values in the dataset\n",
    "sum(is.na(data_diabetes))"
   ]
  },
  {
   "cell_type": "code",
   "execution_count": 32,
   "id": "79bf1d70-8289-46fc-892c-777bac4e5a7f",
   "metadata": {},
   "outputs": [],
   "source": [
    "# Now we convert the Outcome variable to a factor since we are performing classification\n",
    "data_diabetes$Outcome = as.factor(data_diabetes$Outcome)"
   ]
  },
  {
   "cell_type": "markdown",
   "id": "acb17493-31db-4f91-aded-a42425599caa",
   "metadata": {},
   "source": [
    "- Part 1: K-fold Cross-Validation for Decision Trees"
   ]
  },
  {
   "cell_type": "code",
   "execution_count": 17,
   "id": "3389aac8-6f96-4c79-9a2f-a98fb5d5d8eb",
   "metadata": {},
   "outputs": [],
   "source": [
    "# Loading necessary libraries for decision trees and plotting\n",
    "library(rpart)\n",
    "library(rpart.plot)\n",
    "\n",
    "# K-fold cross-validation setup\n",
    "nfolds = 5  # Number of folds for cross-validation\n",
    "\n",
    "# This data frame will store results of model quality metrics for each fold\n",
    "modelqualityresults = data.frame(accuracy = rep(0, nfolds),\n",
    "                                 sensitivity = rep(0, nfolds),\n",
    "                                 specificity = rep(0, nfolds))\n",
    "\n",
    "# Creating a list to handle folds for cross-validation\n",
    "folds = list()\n",
    "\n",
    "# Creating indices for splitting data into folds\n",
    "inivec = 1:length(data_diabetes$Outcome) \n",
    "\n",
    "# Splitting data into training and test sets for each fold\n",
    "for(i in 1:(nfolds-1)) {\n",
    "  split = sample(inivec, floor(length(data_diabetes$Outcome) / nfolds), replace = FALSE)\n",
    "  folds[[i]] = split\n",
    "  inivec = inivec[!(inivec %in% split)]\n",
    "}\n",
    "folds[[nfolds]] = inivec\n",
    "\n",
    "# Iterating through each fold to train and test the model\n",
    "for(i in 1:nfolds) {\n",
    "  training_set = data_diabetes[-folds[[i]],]  # Training set\n",
    "  test_set = data_diabetes[folds[[i]],]       # Test set\n",
    "\n",
    "  # Training a decision tree model\n",
    "  mytree = rpart(formula = Outcome ~ ., data = training_set, method = \"class\")\n",
    "\n",
    "  # Predicting the outcomes on the test set\n",
    "  pred = predict(mytree, test_set, type = \"class\")\n",
    "\n",
    "  # Creating a confusion matrix to compare actual vs predicted outcomes\n",
    "  conf_matrix = table(test_set$Outcome, pred, dnn = c(\"Actual value\", \"Classifier prediction\"))\n",
    "  conf_matrix_prop = prop.table(conf_matrix)\n",
    "\n",
    "  # Calculating model quality metrics\n",
    "  modelqualityresults$accuracy[i] = sum(diag(conf_matrix)) / sum(conf_matrix)\n",
    "  modelqualityresults$sensitivity[i] = conf_matrix[1,1] / sum(conf_matrix[,1])\n",
    "  modelqualityresults$specificity[i] = conf_matrix[2,2] / sum(conf_matrix[,2])\n",
    "}\n",
    "\n",
    "# Creating a data frame with values of parameters for each fold for plotting\n",
    "plotmodelqualityresults = data.frame(values = c(modelqualityresults$accuracy,\n",
    "                                                modelqualityresults$sensitivity,\n",
    "                                                modelqualityresults$specificity),\n",
    "                                     parameter = as.factor(c(rep(\"accuracy\", nfolds),\n",
    "                                                             rep(\"sensitivity\", nfolds),\n",
    "                                                             rep(\"specificity\", nfolds))))\n"
   ]
  },
  {
   "cell_type": "code",
   "execution_count": 18,
   "id": "7c083cf8-2260-4b98-bb89-76ff840f9d4d",
   "metadata": {},
   "outputs": [
    {
     "data": {
      "image/png": "[encoded data removed]",
      "text/plain": [
       "plot without title"
      ]
     },
     "metadata": {
      "image/png": {
       "height": 420,
       "width": 420
      }
     },
     "output_type": "display_data"
    }
   ],
   "source": [
    "# Loading the ggplot2 library for plotting\n",
    "library(ggplot2)\n",
    "\n",
    "# Plotting histograms and density plots for model quality metrics\n",
    "ggplot(data = plotmodelqualityresults) +\n",
    "  aes(x = values, fill = parameter) +\n",
    "  geom_histogram(bins = 10, colour = \"black\", aes(y = ..density..)) +\n",
    "  geom_density(colour = \"black\", alpha = 0, size = 1) +\n",
    "  facet_grid(. ~ parameter)"
   ]
  },
  {
   "cell_type": "code",
   "execution_count": 19,
   "id": "c7f1f138-b288-490e-9bd1-0c5494f29a2a",
   "metadata": {},
   "outputs": [
    {
     "data": {
      "image/png": "[encoded data removed]",
      "text/plain": [
       "plot without title"
      ]
     },
     "metadata": {
      "image/png": {
       "height": 420,
       "width": 420
      }
     },
     "output_type": "display_data"
    }
   ],
   "source": [
    "# Plotting boxplots for model quality metrics\n",
    "ggplot(data = plotmodelqualityresults) +\n",
    "  aes(x = parameter, fill = parameter, y = values) +\n",
    "  geom_boxplot()"
   ]
  },
  {
   "cell_type": "code",
   "execution_count": 20,
   "id": "dd762f55-6300-4a9f-8f2a-543d3dfbf5a3",
   "metadata": {},
   "outputs": [
    {
     "data": {
      "image/png": "[encoded data removed]",
      "text/plain": [
       "plot without title"
      ]
     },
     "metadata": {
      "image/png": {
       "height": 420,
       "width": 420
      }
     },
     "output_type": "display_data"
    }
   ],
   "source": [
    "# Plotting the decision tree using prp from rpart.plot\n",
    "prp(mytree,\n",
    "    type = 0,\n",
    "    extra = 106,\n",
    "    nn = TRUE,\n",
    "    shadow.col = \"blue\",\n",
    "    digits = 22,\n",
    "    roundint = FALSE)"
   ]
  },
  {
   "cell_type": "code",
   "execution_count": 21,
   "id": "6793d683-45ec-4448-877f-b4196ff4c068",
   "metadata": {},
   "outputs": [
    {
     "data": {
      "image/png": "[encoded data removed]",
      "text/plain": [
       "plot without title"
      ]
     },
     "metadata": {
      "image/png": {
       "height": 420,
       "width": 420
      }
     },
     "output_type": "display_data"
    }
   ],
   "source": [
    "# Advanced plotting of the decision tree using rpart.plot\n",
    "rpart.plot(mytree, \n",
    "           box.palette = \"GnBu\", # color scheme\n",
    "           branch.lty = 3,       # dotted branch lines\n",
    "           shadow.col = \"gray\",  # shadows under the node boxes\n",
    "           digits = 20,\n",
    "           nn = TRUE)"
   ]
  },
  {
   "cell_type": "code",
   "execution_count": 22,
   "id": "f4cb76eb-18a4-4f51-8a07-d75722185a7a",
   "metadata": {},
   "outputs": [],
   "source": [
    "# Final prediction using the decision tree\n",
    "pred = predict(mytree, test_set, type = \"class\")\n",
    "\n",
    "# Computing the confusion matrix for the final prediction\n",
    "conf_matrix = table(test_set$Outcome, pred, dnn = c(\"Actual value\", \"Classifier prediction\"))\n",
    "conf_matrix_prop = prop.table(conf_matrix)\n",
    "\n",
    "# Calculating error estimates for the final model\n",
    "accuracy = sum(diag(conf_matrix)) / sum(conf_matrix)\n",
    "precision = conf_matrix[1,1] / sum(conf_matrix[,1])\n",
    "specificity = conf_matrix[2,2] / sum(conf_matrix[,2])"
   ]
  },
  {
   "cell_type": "code",
   "execution_count": 23,
   "id": "f5d3940e-34b9-4d3a-bb24-2dff64544f9f",
   "metadata": {},
   "outputs": [
    {
     "name": "stdout",
     "output_type": "stream",
     "text": [
      "Confusion matrix            Classifier prediction\n",
      "Actual value          0          1\n",
      "           0 0.55769231 0.07692308\n",
      "           1 0.16025641 0.20512821\n",
      "Accuracy:[1] 0.7628205\n",
      "Precision:[1] 0.7767857\n",
      "Specificity:[1] 0.7272727\n"
     ]
    }
   ],
   "source": [
    "# Printing the confusion matrix proportions and model quality metrics\n",
    "cat(\"Confusion matrix\")\n",
    "print(conf_matrix_prop)\n",
    "cat(\"Accuracy:\")\n",
    "print(accuracy)\n",
    "cat(\"Precision:\")\n",
    "print(precision)\n",
    "cat(\"Specificity:\")\n",
    "print(specificity)"
   ]
  },
  {
   "cell_type": "markdown",
   "id": "81a85c83-44f2-4c43-8fdc-26f849442aba",
   "metadata": {},
   "source": [
    "- Part 2: Random Forest using K-fold Cross-Validation"
   ]
  },
  {
   "cell_type": "code",
   "execution_count": 33,
   "id": "08fa5dcb-8087-49d2-96f1-8382aae13795",
   "metadata": {},
   "outputs": [
    {
     "name": "stdout",
     "output_type": "stream",
     "text": [
      "Model 1 of 78 \n",
      "Model 2 of 78 \n",
      "Model 3 of 78 \n",
      "Model 4 of 78 \n",
      "Model 5 of 78 \n",
      "Model 6 of 78 \n",
      "Model 7 of 78 \n",
      "Model 8 of 78 \n",
      "Model 9 of 78 \n",
      "Model 10 of 78 \n",
      "Model 11 of 78 \n",
      "Model 12 of 78 \n",
      "Model 13 of 78 \n",
      "Model 14 of 78 \n",
      "Model 15 of 78 \n",
      "Model 16 of 78 \n",
      "Model 17 of 78 \n",
      "Model 18 of 78 \n",
      "Model 19 of 78 \n",
      "Model 20 of 78 \n",
      "Model 21 of 78 \n",
      "Model 22 of 78 \n",
      "Model 23 of 78 \n",
      "Model 24 of 78 \n",
      "Model 25 of 78 \n",
      "Model 26 of 78 \n",
      "Model 27 of 78 \n",
      "Model 28 of 78 \n",
      "Model 29 of 78 \n",
      "Model 30 of 78 \n",
      "Model 31 of 78 \n",
      "Model 32 of 78 \n",
      "Model 33 of 78 \n",
      "Model 34 of 78 \n",
      "Model 35 of 78 \n",
      "Model 36 of 78 \n",
      "Model 37 of 78 \n",
      "Model 38 of 78 \n",
      "Model 39 of 78 \n",
      "Model 40 of 78 \n",
      "Model 41 of 78 \n",
      "Model 42 of 78 \n",
      "Model 43 of 78 \n",
      "Model 44 of 78 \n",
      "Model 45 of 78 \n",
      "Model 46 of 78 \n",
      "Model 47 of 78 \n",
      "Model 48 of 78 \n",
      "Model 49 of 78 \n",
      "Model 50 of 78 \n",
      "Model 51 of 78 \n",
      "Model 52 of 78 \n",
      "Model 53 of 78 \n",
      "Model 54 of 78 \n",
      "Model 55 of 78 \n",
      "Model 56 of 78 \n",
      "Model 57 of 78 \n",
      "Model 58 of 78 \n",
      "Model 59 of 78 \n",
      "Model 60 of 78 \n",
      "Model 61 of 78 \n",
      "Model 62 of 78 \n",
      "Model 63 of 78 \n",
      "Model 64 of 78 \n",
      "Model 65 of 78 \n",
      "Model 66 of 78 \n",
      "Model 67 of 78 \n",
      "Model 68 of 78 \n",
      "Model 69 of 78 \n",
      "Model 70 of 78 \n",
      "Model 71 of 78 \n",
      "Model 72 of 78 \n",
      "Model 73 of 78 \n",
      "Model 74 of 78 \n",
      "Model 75 of 78 \n",
      "Model 76 of 78 \n",
      "Model 77 of 78 \n",
      "Model 78 of 78 \n"
     ]
    }
   ],
   "source": [
    "# Part 5: Random Forest Modeling\n",
    "library(randomForest)\n",
    "\n",
    "# Initial parameters for k-fold cross-validation\n",
    "nfolds = 5\n",
    "modqualres_1 = data.frame(accuracy = rep(0, nfolds),\n",
    "                          sensitivity = rep(0, nfolds),\n",
    "                          specificity = rep(0, nfolds))\n",
    "\n",
    "# List to store results of model quality metrics for each parameter combination\n",
    "listmodqualres_1 = list()\n",
    "\n",
    "# Grid of parameters to tune for random forest\n",
    "paramsForest = expand.grid(ntree = seq(50, 300, 10), mtry = seq(1, 9, 3))\n",
    "folds = list()\n",
    "inivec = 1:length(data_diabetes$Outcome)\n",
    "\n",
    "# Creating folds for cross-validation\n",
    "for (i in 1:(nfolds - 1)) {\n",
    "  split = sample(inivec, floor(length(data_diabetes$Outcome) / nfolds), replace = FALSE)\n",
    "  folds[[i]] = split\n",
    "  inivec = inivec[!(inivec %in% split)]\n",
    "}\n",
    "folds[[nfolds]] = inivec\n",
    "\n",
    "# Train and evaluate random forest models\n",
    "for (j in 1:nrow(paramsForest)) {\n",
    "  cat(\"Model\", j, \"of\", nrow(paramsForest), \"\\n\")\n",
    "  for (i in 1:nfolds) {\n",
    "    training_set = data_diabetes[-folds[[i]], ]\n",
    "    test_set = data_diabetes[folds[[i]], ]\n",
    "    \n",
    "    # Training a random forest model\n",
    "    forest = randomForest(formula = Outcome ~ ., data = training_set,\n",
    "                          mtry = paramsForest$mtry[j], ntree = paramsForest$ntree[j])\n",
    "    \n",
    "    # Predicting the outcomes on the test set\n",
    "    pred = predict(forest, test_set, type = \"class\")\n",
    "    \n",
    "    # Creating a confusion matrix to compare actual vs predicted outcomes\n",
    "    conf_matrix = table(test_set$Outcome, pred, dnn = c(\"Actual value\", \"Classifier prediction\"))\n",
    "    \n",
    "    # Calculating model quality metrics\n",
    "    modqualres_1$accuracy[i] = sum(diag(conf_matrix)) / sum(conf_matrix)\n",
    "    modqualres_1$sensitivity[i] = conf_matrix[1,1] / sum(conf_matrix[,1])\n",
    "    modqualres_1$specificity[i] = conf_matrix[2,2] / sum(conf_matrix[,2])\n",
    "  }  \n",
    "  \n",
    "  # Storing the results for each parameter combination\n",
    "  listmodqualres_1[[j]] = modqualres_1\n",
    "  paramsForest$accuracy[j] = mean(modqualres_1$accuracy)\n",
    "  paramsForest$sensitivity[j] = mean(modqualres_1$sensitivity)\n",
    "  paramsForest$specificity[j] = mean(modqualres_1$specificity)\n",
    "}\n",
    "\n",
    "# data frame with values of parameters for each fold\n",
    "plotmodelqualityresults_1 = data.frame(values = c(paramsForest$accuracy,\n",
    "                                                  paramsForest$sensitivity,\n",
    "                                                  paramsForest$specificity),\n",
    "                                       parameter = as.factor(c(rep(\"accuracy\", length(paramsForest$accuracy)),\n",
    "                                                               rep(\"sensitivity\", length(paramsForest$accuracy)),\n",
    "                                                               rep(\"specificity\", length(paramsForest$accuracy)))))\n"
   ]
  },
  {
   "cell_type": "code",
   "execution_count": 34,
   "id": "e66ead5d-0d67-48f1-abc1-2f6caaa71a23",
   "metadata": {},
   "outputs": [
    {
     "data": {
      "image/png": "[encoded data removed]",
      "text/plain": [
       "plot without title"
      ]
     },
     "metadata": {
      "image/png": {
       "height": 420,
       "width": 420
      }
     },
     "output_type": "display_data"
    }
   ],
   "source": [
    "# Plotting histograms and density plots for random forest model quality metrics\n",
    "ggplot(data = plotmodelqualityresults_1) +\n",
    "  aes(x = values, fill = parameter) +\n",
    "  geom_histogram(bins = 10, colour = \"black\", aes(y = ..density..)) +\n",
    "  geom_density(colour = \"black\", alpha = 0.5, size = 1) +\n",
    "  facet_grid(. ~ parameter) + labs()"
   ]
  },
  {
   "cell_type": "code",
   "execution_count": 24,
   "id": "db19dd8d-aa03-4e67-9f02-7d581d6dc834",
   "metadata": {},
   "outputs": [
    {
     "data": {
      "image/png": "[encoded data removed]",
      "text/plain": [
       "plot without title"
      ]
     },
     "metadata": {
      "image/png": {
       "height": 420,
       "width": 420
      }
     },
     "output_type": "display_data"
    }
   ],
   "source": [
    "# Plotting boxplots for random forest model quality metrics\n",
    "ggplot(data = plotmodelqualityresults_1) +\n",
    "  aes(x = parameter, fill = parameter, y = values) +\n",
    "  geom_boxplot()"
   ]
  },
  {
   "cell_type": "code",
   "execution_count": 25,
   "id": "35dc8ef2-0780-4db9-bf1b-e785cf00e1c8",
   "metadata": {},
   "outputs": [
    {
     "name": "stdout",
     "output_type": "stream",
     "text": [
      "Best parameters based on accuracy:\n",
      "   ntree mtry  accuracy sensitivity specificity\n",
      "29    70    4 0.7747863   0.8148494   0.6895172\n",
      "Best parameters based on sensitivity:\n",
      "   ntree mtry  accuracy sensitivity specificity\n",
      "29    70    4 0.7747863   0.8148494   0.6895172\n",
      "Best parameters based on specificity:\n",
      "   ntree mtry  accuracy sensitivity specificity\n",
      "17   210    1 0.7670437   0.7848863   0.7211138\n",
      "Best parameters based on mean of accuracy, sensitivity, and specificity:\n",
      "   ntree mtry accuracy sensitivity specificity\n",
      "48   260    4 0.773454   0.8062278   0.7011782\n"
     ]
    }
   ],
   "source": [
    "# Checking for the best parameters and hyperparameters of the random forest\n",
    "cat(\"Best parameters based on accuracy:\\n\")\n",
    "print(paramsForest[which.max(paramsForest$accuracy), ])\n",
    "cat(\"Best parameters based on sensitivity:\\n\")\n",
    "print(paramsForest[which.max(paramsForest$sensitivity), ])\n",
    "cat(\"Best parameters based on specificity:\\n\")\n",
    "print(paramsForest[which.max(paramsForest$specificity), ])\n",
    "cat(\"Best parameters based on mean of accuracy, sensitivity, and specificity:\\n\")\n",
    "print(paramsForest[which.max(rowMeans(paramsForest[, c(3:5)])), ])"
   ]
  },
  {
   "cell_type": "code",
   "execution_count": 28,
   "id": "0ba9fe26-b122-465c-8150-b9e5c29edf26",
   "metadata": {},
   "outputs": [],
   "source": [
    "# Extracting the best results based on the mean of accuracy, sensitivity, and specificity\n",
    "bestframe_1 = listmodqualres_1[[which.max(rowMeans(paramsForest[, c(3:5)]))]]\n",
    "plotbestresults_1 = data.frame(values = c(bestframe_1$accuracy,\n",
    "                                          bestframe_1$sensitivity,\n",
    "                                          bestframe_1$specificity),\n",
    "                               parameter = as.factor(c(rep(\"accuracy\", length(bestframe_1$accuracy)),\n",
    "                                                       rep(\"sensitivity\", length(bestframe_1$sensitivity)),\n",
    "                                                       rep(\"specificity\", length(bestframe_1$specificity)))))"
   ]
  },
  {
   "cell_type": "code",
   "execution_count": 29,
   "id": "6e81d026-266a-4561-ad35-fa8b3ecb8b54",
   "metadata": {},
   "outputs": [
    {
     "data": {
      "image/png": "[encoded data removed]",
      "text/plain": [
       "plot without title"
      ]
     },
     "metadata": {
      "image/png": {
       "height": 420,
       "width": 420
      }
     },
     "output_type": "display_data"
    }
   ],
   "source": [
    "# Plotting boxplots that show the best model quality metrics\n",
    "ggplot(data = plotbestresults_1) +\n",
    "  aes(x = parameter, fill = parameter, y = values) +\n",
    "  geom_boxplot() + labs(y = \"Values\")"
   ]
  },
  {
   "cell_type": "code",
   "execution_count": 33,
   "id": "464bfa3e-5708-4b90-a60b-25e55d0761c9",
   "metadata": {},
   "outputs": [
    {
     "name": "stdout",
     "output_type": "stream",
     "text": [
      "Best parameters based on accuracy:\n",
      "   ntree mtry  accuracy sensitivity specificity\n",
      "29    70    4 0.7747863   0.8148494   0.6895172\n"
     ]
    }
   ],
   "source": [
    "# Plotting the random forest model showing error against number of trees\n",
    "cat(\"Best parameters based on accuracy:\\n\")\n",
    "print(paramsForest[which.max(paramsForest$accuracy), ])"
   ]
  },
  {
   "cell_type": "markdown",
   "id": "282d9326-0d9e-4450-aea5-5379047d8a57",
   "metadata": {},
   "source": [
    "As we can see, with 70 trees and 4 candidate variables, we get a 77.4% accuracy for the best model."
   ]
  },
  {
   "cell_type": "code",
   "execution_count": 34,
   "id": "32548923-7398-418d-bcaa-fe2657f18d08",
   "metadata": {},
   "outputs": [
    {
     "data": {
      "image/png": "[encoded data removed]",
      "text/plain": [
       "plot without title"
      ]
     },
     "metadata": {
      "image/png": {
       "height": 420,
       "width": 420
      }
     },
     "output_type": "display_data"
    }
   ],
   "source": [
    "# Plotting accuracy against the values of mtry and ntree\n",
    "ggplot(paramsForest) +\n",
    "  aes(x = mtry, y = accuracy, color = as.factor(ntree)) +\n",
    "  geom_point(size = 0.5) + geom_line(size = 0.5) + labs(\"Accuracy against candidate variables and number of trees\") + \n",
    "  xlab(\"Candidate variables(mtry)\") + ylab(\"Accuracy\")"
   ]
  },
  {
   "cell_type": "code",
   "execution_count": 35,
   "id": "daf02ee5-8df3-40a0-bce5-a12e0bd4e48c",
   "metadata": {},
   "outputs": [
    {
     "data": {
      "image/png": "[encoded data removed]",
      "text/plain": [
       "Plot with title \"forest\""
      ]
     },
     "metadata": {
      "image/png": {
       "height": 420,
       "width": 420
      }
     },
     "output_type": "display_data"
    }
   ],
   "source": [
    "# Plotting of the error against number of trees\n",
    "plot(forest)"
   ]
  },
  {
   "cell_type": "code",
   "execution_count": 36,
   "id": "08448caa-95fc-4047-b28c-50914206c958",
   "metadata": {
    "scrolled": true
   },
   "outputs": [
    {
     "data": {
      "text/html": [
       "<table class=\"dataframe\">\n",
       "<caption>A data.frame: 1 × 5</caption>\n",
       "<thead>\n",
       "\t<tr><th></th><th scope=col>ntree</th><th scope=col>mtry</th><th scope=col>accuracy</th><th scope=col>sensitivity</th><th scope=col>specificity</th></tr>\n",
       "\t<tr><th></th><th scope=col>&lt;dbl&gt;</th><th scope=col>&lt;dbl&gt;</th><th scope=col>&lt;dbl&gt;</th><th scope=col>&lt;dbl&gt;</th><th scope=col>&lt;dbl&gt;</th></tr>\n",
       "</thead>\n",
       "<tbody>\n",
       "\t<tr><th scope=row>29</th><td>70</td><td>4</td><td>0.7747863</td><td>0.8148494</td><td>0.6895172</td></tr>\n",
       "</tbody>\n",
       "</table>\n"
      ],
      "text/latex": [
       "A data.frame: 1 × 5\n",
       "\\begin{tabular}{r|lllll}\n",
       "  & ntree & mtry & accuracy & sensitivity & specificity\\\\\n",
       "  & <dbl> & <dbl> & <dbl> & <dbl> & <dbl>\\\\\n",
       "\\hline\n",
       "\t29 & 70 & 4 & 0.7747863 & 0.8148494 & 0.6895172\\\\\n",
       "\\end{tabular}\n"
      ],
      "text/markdown": [
       "\n",
       "A data.frame: 1 × 5\n",
       "\n",
       "| <!--/--> | ntree &lt;dbl&gt; | mtry &lt;dbl&gt; | accuracy &lt;dbl&gt; | sensitivity &lt;dbl&gt; | specificity &lt;dbl&gt; |\n",
       "|---|---|---|---|---|---|\n",
       "| 29 | 70 | 4 | 0.7747863 | 0.8148494 | 0.6895172 |\n",
       "\n"
      ],
      "text/plain": [
       "   ntree mtry accuracy  sensitivity specificity\n",
       "29 70    4    0.7747863 0.8148494   0.6895172  "
      ]
     },
     "metadata": {},
     "output_type": "display_data"
    },
    {
     "data": {
      "text/html": [
       "1"
      ],
      "text/latex": [
       "1"
      ],
      "text/markdown": [
       "1"
      ],
      "text/plain": [
       "[1] 1"
      ]
     },
     "metadata": {},
     "output_type": "display_data"
    }
   ],
   "source": [
    "# Final code for training the best model on the entire dataset\n",
    "#------------------------------------------------------------------------------#\n",
    "aux = which.max(paramsForest[,3])\n",
    "paramsForest[aux,]\n",
    "\n",
    "# Training the best random forest model\n",
    "bestclassifier = randomForest(formula = Outcome ~ ., data = data_diabetes,\n",
    "                              mtry = paramsForest$mtry[aux], ntree = paramsForest$ntree[aux])\n",
    "\n",
    "# Predicting outcomes using the best model\n",
    "predicted = predict(bestclassifier, data_diabetes, type = \"class\")\n",
    "mean(predicted == data_diabetes$Outcome)\n",
    "\n",
    "# This function saves the best model with all its parameters, confusion matrix and prediction.\n",
    "# It allows use to use the best model when needed\n",
    "finalModel = function(data_diabetes) {\n",
    "  set.seed(123)\n",
    "  predicted = predict(bestclassifier, data_diabetes, type = \"class\")\n",
    "  conf_matrix = table(data_diabetes$Outcome, predicted, dnn = c(\"Actual value\", \"Classifier prediction\"))\n",
    "  conf_matrix_prop = prop.table(conf_matrix)\n",
    "  \n",
    "  accuracy = sum(diag(conf_matrix)) / sum(conf_matrix)\n",
    "  precision = conf_matrix[1,1] / sum(conf_matrix[,1])\n",
    "  specificity = conf_matrix[2,2] / sum(conf_matrix[,2])\n",
    "  \n",
    "  return(list(prediction = predicted,\n",
    "              conf_matrix = conf_matrix,\n",
    "              conf_matrix_prop = conf_matrix_prop,\n",
    "              accuracy = accuracy,\n",
    "              precision = precision,\n",
    "              specificity = specificity))\n",
    "}\n",
    "\n",
    "# Saving the best model to a .Rdata file for further use\n",
    "save(bestclassifier, file = \"my_model.Rdata\")"
   ]
  }
 ],
 "metadata": {
  "kernelspec": {
   "display_name": "R",
   "language": "R",
   "name": "ir"
  },
  "language_info": {
   "codemirror_mode": "r",
   "file_extension": ".r",
   "mimetype": "text/x-r-source",
   "name": "R",
   "pygments_lexer": "r",
   "version": "4.3.3"
  }
 },
 "nbformat": 4,
 "nbformat_minor": 5
}
